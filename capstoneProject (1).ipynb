{
  "metadata": {
    "kernelspec": {
      "name": "python",
      "display_name": "Python (Pyodide)",
      "language": "python"
    },
    "language_info": {
      "codemirror_mode": {
        "name": "python",
        "version": 3
      },
      "file_extension": ".py",
      "mimetype": "text/x-python",
      "name": "python",
      "nbconvert_exporter": "python",
      "pygments_lexer": "ipython3",
      "version": "3.8"
    }
  },
  "nbformat_minor": 5,
  "nbformat": 4,
  "cells": [
    {
      "id": "0805cb02-5098-4d23-9d32-7199440a3662",
      "cell_type": "code",
      "source": "#Task1\nimport pandas as pd",
      "metadata": {
        "trusted": true
      },
      "outputs": [],
      "execution_count": 10
    },
    {
      "id": "90962e86-7a57-49f7-a7d4-b2cd589a99a8",
      "cell_type": "code",
      "source": "import numpy as np",
      "metadata": {
        "trusted": true
      },
      "outputs": [],
      "execution_count": 11
    },
    {
      "id": "891320e3-43bc-40cc-9fb9-729e1eec055c",
      "cell_type": "code",
      "source": "# cretae project DataFrame\nproject_data = {\n    'ID': ['A001', 'A002', 'A003', 'A004', 'A005', 'A002', 'A005', 'A003', 'A001', 'A003', 'A001', 'A004', 'A004', 'A005'],\n    'Project': ['Project 1', 'Project 2', 'Project 3', 'Project 4', 'Project 5', 'Project 6', 'Project 7', 'Project 8', \n                'Project 9', 'Project 10', 'Project 11', 'Project 12', 'Project 13', 'Project 14'],\n    'Cost': [1002000, 2000000, 4500000, 5500000, None, 680000, 400000, 350000, None, 300000, 2000000, 1000000, 3000000, 200000],\n    'Status': ['Finished', 'Ongoing', 'Finished', 'Ongoing', 'Finished', 'Failed', 'Finished', 'Failed', \n               'Ongoing', 'Finished', 'Failed', 'Ongoing', 'Finished', 'Finished']\n}\nproject_df = pd.DataFrame(project_data)",
      "metadata": {
        "trusted": true
      },
      "outputs": [],
      "execution_count": 12
    },
    {
      "id": "25fb1984-1a91-464b-8361-69fa14d6232e",
      "cell_type": "code",
      "source": "print(project_df)",
      "metadata": {
        "trusted": true
      },
      "outputs": [
        {
          "name": "stdout",
          "output_type": "stream",
          "text": "      ID     Project       Cost    Status\n0   A001   Project 1  1002000.0  Finished\n1   A002   Project 2  2000000.0   Ongoing\n2   A003   Project 3  4500000.0  Finished\n3   A004   Project 4  5500000.0   Ongoing\n4   A005   Project 5        NaN  Finished\n5   A002   Project 6   680000.0    Failed\n6   A005   Project 7   400000.0  Finished\n7   A003   Project 8   350000.0    Failed\n8   A001   Project 9        NaN   Ongoing\n9   A003  Project 10   300000.0  Finished\n10  A001  Project 11  2000000.0    Failed\n11  A004  Project 12  1000000.0   Ongoing\n12  A004  Project 13  3000000.0  Finished\n13  A005  Project 14   200000.0  Finished\n"
        }
      ],
      "execution_count": 13
    },
    {
      "id": "47959c1d-0e8c-410b-adf4-ca9571882900",
      "cell_type": "code",
      "source": "# Create Employee DataFrame\nemployee_data = {\n    'ID': ['A001', 'A002', 'A003', 'A004', 'A005'],\n    'Name': ['John Alter', 'Alice Luxumberg', 'Tom Sabestine', 'Nina Adgra', 'Amy Johny'],\n    'Gender': ['M', 'F', 'M', 'F', 'F'],\n    'City': ['Paris', 'London', 'Berlin', 'Newyork', 'Madrid'],\n    'Age': [25, 27, 29, 31, 30]\n}\nemployee_df = pd.DataFrame(employee_data)",
      "metadata": {
        "trusted": true
      },
      "outputs": [],
      "execution_count": 14
    },
    {
      "id": "da738f18-bc92-4f4f-906c-d5bb6601cda9",
      "cell_type": "code",
      "source": "print(employee_df)",
      "metadata": {
        "trusted": true
      },
      "outputs": [
        {
          "name": "stdout",
          "output_type": "stream",
          "text": "     ID             Name Gender     City  Age\n0  A001       John Alter      M    Paris   25\n1  A002  Alice Luxumberg      F   London   27\n2  A003    Tom Sabestine      M   Berlin   29\n3  A004       Nina Adgra      F  Newyork   31\n4  A005        Amy Johny      F   Madrid   30\n"
        }
      ],
      "execution_count": 15
    },
    {
      "id": "a1aeaf99-ecad-4d27-9462-3620e600f4a9",
      "cell_type": "code",
      "source": "# Create Seniority Level DataFrame\nseniority_data = {\n    'ID': ['A001', 'A002', 'A003', 'A004', 'A005'],\n    'Designation Level': [2, 2, 3, 2, 3]\n}\nseniority_df = pd.DataFrame(seniority_data)",
      "metadata": {
        "trusted": true
      },
      "outputs": [],
      "execution_count": 16
    },
    {
      "id": "99411fb9-8b95-4c1a-81a0-73a9443da96b",
      "cell_type": "code",
      "source": "print(seniority_df)",
      "metadata": {
        "trusted": true
      },
      "outputs": [
        {
          "name": "stdout",
          "output_type": "stream",
          "text": "     ID  Designation Level\n0  A001                  2\n1  A002                  2\n2  A003                  3\n3  A004                  2\n4  A005                  3\n"
        }
      ],
      "execution_count": 17
    },
    {
      "id": "c75bc793-974e-4101-b999-3824687963ca",
      "cell_type": "code",
      "source": "# Save DataFrames to CSV files\nproject_df.to_csv('project.csv', index=False)\nemployee_df.to_csv('employee.csv', index=False)\nseniority_df.to_csv('seniority.csv', index=False)",
      "metadata": {
        "trusted": true
      },
      "outputs": [],
      "execution_count": 18
    },
    {
      "id": "c4280848-069c-48d4-8f75-c36e700c16ec",
      "cell_type": "code",
      "source": "#Task 2\n# Read project data from CSV\nproject_df = pd.read_csv('project.csv')\n\n# Calculate running average for missing values\nrunning_avg = 0\ncount = 0\n\nfor index, row in project_df.iterrows():\n    if not pd.isna(row['Cost']):\n        running_avg = (running_avg * count + row['Cost']) / (count + 1)\n        count += 1\n    else:\n        project_df.at[index, 'Cost'] = running_avg\n\n# Saving updated DataFrame\nproject_df.to_csv('project.csv', index=False)",
      "metadata": {
        "trusted": true
      },
      "outputs": [],
      "execution_count": 19
    },
    {
      "id": "9d45ee78-a395-4de4-80ad-68b96c31bee4",
      "cell_type": "code",
      "source": "#Task 3\n# Read employee data from CSV\nemployee_df = pd.read_csv('employee.csv')\n\n# Split name column into First and Last Name\nemployee_df[['First Name', 'LastName']] = employee_df['Name'].str.split(' ', expand=True)\n\n# Drop the original Name column\nemployee_df.drop('Name', axis=1, inplace=True)\n\n# Save updated DataFrame\nemployee_df.to_csv('employee.csv', index=False)",
      "metadata": {
        "trusted": true
      },
      "outputs": [],
      "execution_count": 20
    },
    {
      "id": "c7cedfc5-83dc-40a0-92fc-686dd19b5bda",
      "cell_type": "code",
      "source": "#Task 4\n# Read all CSV files\nproject_df = pd.read_csv('project.csv')\nemployee_df = pd.read_csv('employee.csv')\nseniority_df = pd.read_csv('seniority.csv')\n\n# Merge employee and seniority data first\ntemp_df = pd.merge(employee_df, seniority_df, on='ID')\n\n# Merge with project data\nfinal_df = pd.merge(project_df, temp_df, on='ID')\n\n# Save final DataFrame\nfinal_df.to_csv('final.csv', index=False)",
      "metadata": {
        "trusted": true
      },
      "outputs": [],
      "execution_count": 21
    },
    {
      "id": "011ac835-0cd9-47f6-ada3-860ee3ae0cef",
      "cell_type": "code",
      "source": "#Task 5\n# Read final data from CSV\nfinal_df = pd.read_csv('final.csv')\n\n# Add bonus column (5% of cost for finished projects)\nfinal_df['Bonus'] = np.where(final_df['Status'] == 'Finished', final_df['Cost'] * 0.05, 0)\n\n# Save updated DataFrame\nfinal_df.to_csv('final.csv', index=False)",
      "metadata": {
        "trusted": true
      },
      "outputs": [],
      "execution_count": 22
    },
    {
      "id": "42cdfe2c-5385-4d35-9f37-6d9db372e6db",
      "cell_type": "code",
      "source": "#Task 6\n# Read final data from CSV\nfinal_df = pd.read_csv('final.csv')\n\n# Decrease designation level by 1 for failed projects\nfinal_df.loc[final_df['Status'] == 'Failed', 'Designation Level'] -= 1\n\n# Remove employees with designation level > 4\nfinal_df = final_df[final_df['Designation Level'] <= 4]\n\n# Save updated DataFrame\nfinal_df.to_csv('final.csv', index=False)",
      "metadata": {
        "trusted": true
      },
      "outputs": [],
      "execution_count": 23
    },
    {
      "id": "dcbf2bbf-0f83-4b82-99f0-12051c5a8a14",
      "cell_type": "code",
      "source": "#Task 7\n# Read final data from CSV\nfinal_df = pd.read_csv('final.csv')\n\n# Add Mr./Mrs. prefix based on gender\nfinal_df['First Name'] = np.where(final_df['Gender'] == 'M', \n                                 'Mr. ' + final_df['First Name'], \n                                 'Mrs. ' + final_df['First Name'])\n# Drop gender column\nfinal_df.drop('Gender', axis=1, inplace=True)\n\n# Save updated DataFrame\nfinal_df.to_csv('final.csv', index=False)",
      "metadata": {
        "trusted": true
      },
      "outputs": [],
      "execution_count": 24
    },
    {
      "id": "58f7bb34-70f0-49ca-abc5-d23e7ea02954",
      "cell_type": "code",
      "source": "#Task 8\n#promoting designation level by 1 for wmployees whose age is more than 29\n# Read final data from CSV\nfinal_df = pd.read_csv('final.csv')\n\n# Promote designation level by 1 for employees over 29\nfinal_df.loc[final_df['Age'] > 29, 'Designation Level'] += 1\n\n# Save updated DataFrame\nfinal_df.to_csv('final.csv', index=False)\n",
      "metadata": {
        "trusted": true
      },
      "outputs": [],
      "execution_count": 25
    },
    {
      "id": "fcc272d7-4d4f-4f79-bd3d-9d396d822db8",
      "cell_type": "code",
      "source": "#task 9\n#Add the cost of all projects for each Employee and save it in new dataframe,“TotalProjCost” with three columns ID, First Name, and Total cost\n# Read final data from CSV\nfinal_df = pd.read_csv('final.csv')\n\n# Group by ID and First Name, then sum the cost\ntotal_proj_cost = final_df.groupby(['ID', 'First Name'])['Cost'].sum().reset_index()\ntotal_proj_cost.columns = ['ID', 'First Name', 'Total cost']\n\n# Save new DataFrame\ntotal_proj_cost.to_csv('TotalProjCost.csv', index=False)\n",
      "metadata": {
        "trusted": true
      },
      "outputs": [],
      "execution_count": 26
    },
    {
      "id": "db1e91cf-cde1-46e7-9458-acbc0f4d7771",
      "cell_type": "code",
      "source": "#task 10 \n#Print all the employee details whose city name contains the letter “o” in it\n# Read employee data from CSV\nemployee_df = pd.read_csv('employee.csv')\n\n# Filter employees whose city contains 'o' (case insensitive)\nfiltered_employees = employee_df[employee_df['City'].str.contains('o', case=False)]\n\n# Print the results\nprint(filtered_employees)",
      "metadata": {
        "trusted": true
      },
      "outputs": [
        {
          "name": "stdout",
          "output_type": "stream",
          "text": "     ID Gender     City  Age First Name   LastName\n1  A002      F   London   27      Alice  Luxumberg\n3  A004      F  Newyork   31       Nina      Adgra\n"
        }
      ],
      "execution_count": 27
    },
    {
      "id": "c04b4a64-b54c-41f7-b3d3-6c435b2bb544",
      "cell_type": "code",
      "source": "",
      "metadata": {
        "trusted": true
      },
      "outputs": [],
      "execution_count": null
    }
  ]
}